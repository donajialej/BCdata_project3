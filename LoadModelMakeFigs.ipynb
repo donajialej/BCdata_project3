{
 "cells": [
  {
   "cell_type": "code",
   "execution_count": null,
   "metadata": {},
   "outputs": [],
   "source": [
    "from keras.models import load_model\n",
    "model=load_model('two_strand_model.h5')"
   ]
  },
  {
   "cell_type": "code",
   "execution_count": null,
   "metadata": {
    "collapsed": true
   },
   "outputs": [],
   "source": [
    "import matplotlib.pyplot as plt"
   ]
  },
  {
   "cell_type": "code",
   "execution_count": null,
   "metadata": {
    "collapsed": true
   },
   "outputs": [],
   "source": []
  },
  {
   "cell_type": "code",
   "execution_count": null,
   "metadata": {
    "collapsed": true
   },
   "outputs": [],
   "source": [
    "c = 0\n",
    "for i, row in df.iterrows():\n",
    "    encoding_promoter[c,:row.promoter_len*2,:]=double_seq2onehot(CHROM2SEQ[row.chr][row.promoterDHSstart:row.promoterDHSend])\n",
    "    encoding_distal[c,:row.distal_len*2,:]=double_seq2onehot(CHROM2SEQ[row.chr][row.distalDHSstart:row.distalDHSend])\n",
    "    c += 1\n",
    "    "
   ]
  },
  {
   "cell_type": "code",
   "execution_count": null,
   "metadata": {
    "collapsed": true
   },
   "outputs": [],
   "source": [
    "\"\"\"\n",
    "Load Test Data\n",
    "\"\"\"\n",
    "train_ind, test_ind, y_train, y_test = train_test_split(range(len(Y)), Y, test_size=0.20, random_state=42)\n",
    "X_promoter_train = encoding_promoter[train_ind,:,:]\n",
    "X_promoter_test = encoding_promoter[test_ind,:,:]\n",
    "\n",
    "X_distal_train = encoding_distal[train_ind,:,:]\n",
    "X_distal_test = encoding_distal[test_ind,:,:]"
   ]
  },
  {
   "cell_type": "code",
   "execution_count": null,
   "metadata": {},
   "outputs": [],
   "source": [
    "\"\"\"\n",
    "Visualizing the distal filters\n",
    "\"\"\"\n",
    "filters=model.get_layer('distalDHSconv').get_weights()[0]\n",
    "fig, axs = plt.subplots(4,4, figsize=(15, 6), facecolor='w', edgecolor='k')\n",
    "fig.subplots_adjust(hspace = .5, wspace=.001)\n",
    "axs = axs.ravel()\n",
    "\n",
    "for i in range(16):\n",
    "    \"\"\"\n",
    "    for k in range(6):\n",
    "        for j in range(4):\n",
    "            filters[k,j,i]=(filters[k,j,i]+min(filters[k,:,i]))/(min(filters[k,:,i])+max(filters[k,:,i]))\n",
    "            \"\"\"\n",
    "    im=axs[i].imshow(filters[:,:,i].T)\n",
    "    #plt.yticks(range(4),['A','T','C','G'])\n",
    "    plt.colorbar(im,ax=axs[i])\n",
    "plt.title('Filters')\n",
    "plt.show()"
   ]
  },
  {
   "cell_type": "code",
   "execution_count": null,
   "metadata": {},
   "outputs": [],
   "source": [
    "\"\"\"\n",
    "ROC score\n",
    "\"\"\"\n",
    "#y_score = model.predict_proba(xd_dev, verbose=0)\n",
    "print('Predicting on test data')\n",
    "y_score = model.predict([X_distal_test,X_promoter_test])\n",
    "score=roc_auc_score(y_test, y_score, average='macro', sample_weight=None)\n",
    "print(score)"
   ]
  },
  {
   "cell_type": "code",
   "execution_count": null,
   "metadata": {
    "collapsed": true
   },
   "outputs": [],
   "source": []
  }
 ],
 "metadata": {
  "kernelspec": {
   "display_name": "Python 3",
   "language": "python",
   "name": "python3"
  },
  "language_info": {
   "codemirror_mode": {
    "name": "ipython",
    "version": 3
   },
   "file_extension": ".py",
   "mimetype": "text/x-python",
   "name": "python",
   "nbconvert_exporter": "python",
   "pygments_lexer": "ipython3",
   "version": "3.6.1"
  }
 },
 "nbformat": 4,
 "nbformat_minor": 2
}
