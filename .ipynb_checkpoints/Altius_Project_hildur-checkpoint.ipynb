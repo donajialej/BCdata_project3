{
 "cells": [
  {
   "cell_type": "code",
   "execution_count": null,
   "metadata": {
    "collapsed": true
   },
   "outputs": [],
   "source": [
    "import pandas as pd\n",
    "import numpy as np\n",
    "import matplotlib.pyplot as plt\n",
    "%matplotlib inline"
   ]
  },
  {
   "cell_type": "code",
   "execution_count": null,
   "metadata": {
    "collapsed": true
   },
   "outputs": [],
   "source": [
    "df = pd.read_csv(\"/home/hildurk/data/3-Simon/promoterDHS_distalDHS_pairs.csv\")\n",
    "df = df.sample(n=50000)\n",
    "df[\"promoter_len\"]=df[\"promoterDHSend\"]-df[\"promoterDHSstart\"]\n",
    "df[\"distal_len\"]=df[\"distalDHSend\"]-df[\"distalDHSstart\"]"
   ]
  },
  {
   "cell_type": "code",
   "execution_count": null,
   "metadata": {},
   "outputs": [],
   "source": [
    "df.head()"
   ]
  },
  {
   "cell_type": "code",
   "execution_count": null,
   "metadata": {
    "collapsed": true
   },
   "outputs": [],
   "source": [
    "from Bio import SeqIO\n",
    "\n",
    "def chrom2seq(chrom):\n",
    "    \"\"\"\n",
    "    Convert chromosome string \"chrom\" to a genomic sequence\n",
    "    \"\"\"\n",
    "\n",
    "    return list(SeqIO.parse(\n",
    "        \"/home/hildurk/data/3-Simon/hg38.analysisSet.chroms/%s.fa\" % chrom, \"fasta\"))[0].seq.upper()"
   ]
  },
  {
   "cell_type": "code",
   "execution_count": null,
   "metadata": {
    "scrolled": true
   },
   "outputs": [],
   "source": [
    "plt.figure\n",
    "plt.hist(df[\"promoter_len\"],bins=30,color=\"g\",alpha=0.4,label=\"promoter\")\n",
    "plt.hist(df[\"distal_len\"],bins=30,color=\"b\",alpha=0.4,label=\"distal\")\n",
    "plt.legend()\n",
    "plt.xlabel(\"Base Pair\")\n",
    "plt.ylabel(\"Count\")\n",
    "plt.show()"
   ]
  },
  {
   "cell_type": "code",
   "execution_count": null,
   "metadata": {
    "collapsed": true
   },
   "outputs": [],
   "source": [
    "seqlength=2000\n",
    "df=df[(df[\"promoter_len\"]<seqlength) & (df[\"distal_len\"]<seqlength)]"
   ]
  },
  {
   "cell_type": "code",
   "execution_count": null,
   "metadata": {
    "collapsed": true
   },
   "outputs": [],
   "source": [
    "N=df.shape[0]\n",
    "encoding_promoter = np.zeros((N,seqlength,4),dtype=bool)\n",
    "encoding_distal = np.zeros((N,seqlength,4),dtype=bool)"
   ]
  },
  {
   "cell_type": "code",
   "execution_count": null,
   "metadata": {},
   "outputs": [],
   "source": [
    "chrom2seq('chr1')"
   ]
  },
  {
   "cell_type": "code",
   "execution_count": null,
   "metadata": {
    "collapsed": true
   },
   "outputs": [],
   "source": [
    "# list of chromosomes\n",
    "CHROMS = [\"chr1\", \"chr10\", \"chr11\", \"chr12\", \"chr13\", \"chr14\", \"chr15\", \"chr16\", \"chr17\", \n",
    "          \"chr18\", \"chr19\", \"chr2\", \"chr20\", \"chr21\", \"chr22\", \"chr3\", \"chr4\", \"chr5\", \"chr6\", \n",
    "          \"chr7\", \"chr8\", \"chr9\", \"chrM\", \"chrX\", \"chrY\"]\n",
    "\n",
    "# Make dictionary\n",
    "CHROM2SEQ = dict(zip(CHROMS,[chrom2seq(chrom) for chrom in CHROMS]))"
   ]
  },
  {
   "cell_type": "code",
   "execution_count": null,
   "metadata": {},
   "outputs": [],
   "source": [
    "seq = CHROM2SEQ['chr1'][925589:925790]"
   ]
  },
  {
   "cell_type": "code",
   "execution_count": null,
   "metadata": {},
   "outputs": [],
   "source": [
    "print(seq)"
   ]
  },
  {
   "cell_type": "code",
   "execution_count": null,
   "metadata": {
    "collapsed": true
   },
   "outputs": [],
   "source": [
    "import numpy as np\n",
    "\n",
    "base2row = {'A':0,'T':1,'C':2,'G':3}\n",
    "def seq2onehot(seq):\n",
    "    \"\"\"\n",
    "    Create a one-hot encoding of a nucleotide sequence\n",
    "    \"\"\"\n",
    "    \n",
    "    A = np.zeros((len(seq),4),dtype=bool)\n",
    "    for i, base in enumerate(seq):\n",
    "        if base=='N':\n",
    "            continue\n",
    "        A[i,base2row[base]] = True\n",
    "    return A"
   ]
  },
  {
   "cell_type": "code",
   "execution_count": null,
   "metadata": {},
   "outputs": [],
   "source": [
    "seq1h = seq2onehot(seq)"
   ]
  },
  {
   "cell_type": "code",
   "execution_count": null,
   "metadata": {},
   "outputs": [],
   "source": [
    "np.shape(seq1h)"
   ]
  },
  {
   "cell_type": "code",
   "execution_count": null,
   "metadata": {},
   "outputs": [],
   "source": [
    "print(seq1h[:,:9])"
   ]
  },
  {
   "cell_type": "code",
   "execution_count": null,
   "metadata": {},
   "outputs": [],
   "source": [
    "seq[:9]"
   ]
  },
  {
   "cell_type": "code",
   "execution_count": null,
   "metadata": {
    "collapsed": true
   },
   "outputs": [],
   "source": [
    "\n",
    "# Initialize one-hot encoding arrays (X)\n",
    "N = df.shape[0]\n",
    "encoding_promoter = np.zeros((N,seqlength,4),dtype=bool)\n",
    "encoding_distal = np.zeros((N,seqlength,4),dtype=bool)\n",
    "\n",
    "# Initialize Y\n",
    "#Y = np.zeros((N,1))\n",
    "Y = np.zeros((N),dtype=int)"
   ]
  },
  {
   "cell_type": "code",
   "execution_count": null,
   "metadata": {
    "collapsed": true
   },
   "outputs": [],
   "source": [
    "# Define X (one-hot encoding) and Y (linked) for Keras\n",
    "row_no = 0\n",
    "for i,row in df.iterrows():\n",
    "    seq_promoter = CHROM2SEQ[row.chr][row.promoterDHSstart:row.promoterDHSend]\n",
    "    seq_distal = CHROM2SEQ[row.chr][row.distalDHSstart:row.distalDHSend]\n",
    "    try:\n",
    "        encoding_promoter[row_no,:row.promoter_len,:] = seq2onehot(seq_promoter)\n",
    "        encoding_distal[row_no,:row.distal_len,:] = seq2onehot(seq_distal)\n",
    "        Y[row_no] = row.linked\n",
    "        row_no += 1\n",
    "    except KeyError:\n",
    "        print(seq_promoter)\n",
    "        print(seq_distal)\n",
    "        break"
   ]
  },
  {
   "cell_type": "markdown",
   "metadata": {},
   "source": [
    "Now we have our data in the correct format and we are ready to import it into keras (to run tensorflow)."
   ]
  },
  {
   "cell_type": "code",
   "execution_count": null,
   "metadata": {
    "collapsed": true
   },
   "outputs": [],
   "source": [
    "from sklearn.model_selection import train_test_split\n",
    "\n",
    "#idx_train_all, idx_test, y_train_all, y_test = train_test_split(np.arange(N), Y, test_size=0.33,\n",
    "#                                          random_state=1337, stratify=None)\n",
    "idx_train, idx_test, y_train, y_test = train_test_split(np.arange(N), Y, test_size=0.33)\n",
    "#idx_train, idx_dev, y_train, y_dev = train_test_split(np.arange(idx_train_all.shape[0]), y_train_all, test_size=0.20)\n",
    "\n",
    "xp_train=encoding_promoter[idx_train,:,:]\n",
    "#xp_dev=encoding_promoter[idx_dev,:,:]\n",
    "xp_test=encoding_promoter[idx_test,:,:]\n",
    "\n",
    "xd_train=encoding_distal[idx_train,:,:]\n",
    "#xd_dev=encoding_distal[idx_dev,:,:]\n",
    "xd_test=encoding_distal[idx_test,:,:]\n",
    "\n",
    "#y_train = df[\"linked\"][idx_train]\n",
    "#y_dev   = df[\"linked\"][idx_dev]\n",
    "#y_test =df[\"linked\"][idx_dev]"
   ]
  },
  {
   "cell_type": "code",
   "execution_count": null,
   "metadata": {},
   "outputs": [],
   "source": [
    "import keras"
   ]
  },
  {
   "cell_type": "code",
   "execution_count": null,
   "metadata": {},
   "outputs": [],
   "source": [
    "from keras.layers import Input,Conv1D,Dense,GlobalMaxPooling1D\n",
    "nb_filter=12\n",
    "filter_len=6\n",
    "distal_one_hot_encoding = Input(shape=(seqlength,4),name='distalDHSoh')\n",
    "promo_one_hot_encoding = Input(shape=(seqlength,4),name='promoterDHSoh')\n",
    "distal_conv_layer=Conv1D(nb_filter,filter_len,padding='same',name='convDHSdistal',activation='relu')(distal_one_hot_encoding)\n",
    "promo_conv_layer=Conv1D(nb_filter,filter_len,padding='same',name='convDHSpromo',activation='relu')(promo_one_hot_encoding)"
   ]
  },
  {
   "cell_type": "code",
   "execution_count": null,
   "metadata": {
    "collapsed": true
   },
   "outputs": [],
   "source": [
    "fingerprint_distal=GlobalMaxPooling1D()(distal_conv_layer)\n",
    "fingerprint_promo=GlobalMaxPooling1D()(promo_conv_layer)\n",
    "merged_vector = keras.layers.concatenate([fingerprint_promo, fingerprint_distal], axis=-1)\n",
    "#prob_association_distal=Dense(1,activation='sigmoid',name='logistic_regression_distal')(fingerprint_distal)\n",
    "prob_association=Dense(1,activation='sigmoid',name='logistic_regression_distal')(merged_vector)\n",
    "#prob_association_promo=Dense(1,activation='sigmoid',name='logistic_regression_promo')(fingerprint_promo)"
   ]
  },
  {
   "cell_type": "code",
   "execution_count": null,
   "metadata": {},
   "outputs": [],
   "source": []
  },
  {
   "cell_type": "code",
   "execution_count": null,
   "metadata": {
    "collapsed": true
   },
   "outputs": [],
   "source": [
    "from keras.models import Model\n",
    "#model=Model(input=one_hot_encoding, output=prob_association)\n",
    "#model = Model(inputs=[promo_one_hot_encoding,distal_one_hot_encoding], outputs=[prob_association_promo, prob_association_distal])\n",
    "model = Model(inputs=[promo_one_hot_encoding,distal_one_hot_encoding], outputs= prob_association)\n",
    "\n",
    "#for the two fingerprints model=Model(input=[one_hot_encoding_prom,one_hot_encoding_distal], output=prob_association)\n",
    "#model.add(Merge([branch1, branch2], mode = 'concat'))"
   ]
  },
  {
   "cell_type": "code",
   "execution_count": null,
   "metadata": {},
   "outputs": [],
   "source": [
    "model.summary()"
   ]
  },
  {
   "cell_type": "code",
   "execution_count": null,
   "metadata": {},
   "outputs": [],
   "source": [
    "np.shape(xd_train)"
   ]
  },
  {
   "cell_type": "code",
   "execution_count": null,
   "metadata": {},
   "outputs": [],
   "source": [
    "# Get the percentage of nonzeros in Y\n",
    "pc = len(np.where(Y)[0]) / len(Y)\n",
    "print(pc)"
   ]
  },
  {
   "cell_type": "code",
   "execution_count": null,
   "metadata": {},
   "outputs": [],
   "source": [
    "import sklearn\n",
    "class_weight_vec=sklearn.utils.class_weight.compute_class_weight('balanced',np.unique(Y),Y)"
   ]
  },
  {
   "cell_type": "code",
   "execution_count": null,
   "metadata": {},
   "outputs": [],
   "source": [
    "print(class_weight_vec)\n",
    "\n",
    "print(y_train[24])"
   ]
  },
  {
   "cell_type": "code",
   "execution_count": null,
   "metadata": {},
   "outputs": [],
   "source": [
    "from keras.optimizers import Adam\n",
    "from keras import metrics\n",
    "from keras.utils import np_utils\n",
    "from keras.callbacks import EarlyStopping\n",
    "\n",
    "\"\"\"\n",
    "Fit the model using a dictionary to weight class 1 more highly than class 0\n",
    "so that both classes are represented equally in the model fitting\n",
    "\"\"\"\n",
    "\n",
    "class_weight = {0: class_weight_vec[0],1: class_weight_vec[1]}\n",
    "#class_weight=sklearn.utils.class_weight.compute_class_weight('balanced',[0.,1.],Y)\n",
    "model.compile(optimizer=Adam(),loss='binary_crossentropy',metrics=['mse','accuracy'])\n",
    "#model.fit(xd_train,y_train,batch_size=256,epochs=30,validation_data=[xd_dev,y_dev])\n",
    "model.fit([xp_train,xd_train],y_train,batch_size=400,epochs=40,class_weight=class_weight,\n",
    "          validation_split=0.2,callbacks=[EarlyStopping(patience=5)])"
   ]
  },
  {
   "cell_type": "code",
   "execution_count": null,
   "metadata": {},
   "outputs": [],
   "source": [
    "from keras.callbacks import EarlyStopping\n",
    "\"\"\"\n",
    "Fit the model using a dictionary to weight class 1 more highly than class 0\n",
    "so that both classes are represented equally in the model fitting\n",
    "\"\"\"\n",
    "class_weight = {0: 1, 1: min([round(1/pc),50])}\n",
    "#model.fit(xd_train,y_train,batch_size=256,epochs=100,\n",
    "#          validation_data=[xd_dev,y_dev],class_weight=class_weight,callbacks=[EarlyStopping(patience=10)])\n",
    "#model.fit([xp_train,xd_train],y_train,batch_size=256,epochs=40,\n",
    "#          class_weight=class_weight,callbacks=[EarlyStopping(patience=10)])"
   ]
  },
  {
   "cell_type": "code",
   "execution_count": null,
   "metadata": {},
   "outputs": [],
   "source": [
    "\"\"\"\n",
    "Visualizing the promotor filters\n",
    "\"\"\"\n",
    "filters=model.get_layer('convDHSpromo').get_weights()[0]\n",
    "fig, axs = plt.subplots(3,4, figsize=(20, 6), facecolor='w', edgecolor='k')\n",
    "fig.subplots_adjust(hspace = .5, wspace=.001)\n",
    "axs = axs.ravel()\n",
    "for i in range(12):\n",
    "    im=axs[i].imshow(filters[:,:,i].T)\n",
    "    plt.colorbar(im,ax=axs[i])\n",
    "plt.title('Filters')\n",
    "plt.show()"
   ]
  },
  {
   "cell_type": "code",
   "execution_count": null,
   "metadata": {},
   "outputs": [],
   "source": [
    "\"\"\"\n",
    "Visualizing the distal enhancers filters\n",
    "\"\"\"\n",
    "filters=model.get_layer('convDHSdistal').get_weights()[0]\n",
    "fig, axs = plt.subplots(3,4, figsize=(20, 6), facecolor='w', edgecolor='k')\n",
    "fig.subplots_adjust(hspace = .5, wspace=.001)\n",
    "axs = axs.ravel()\n",
    "for i in range(12):\n",
    "    im=axs[i].imshow(filters[:,:,i].T)\n",
    "    plt.colorbar(im,ax=axs[i])\n",
    "plt.title('Filters')\n",
    "plt.show()"
   ]
  },
  {
   "cell_type": "code",
   "execution_count": null,
   "metadata": {},
   "outputs": [],
   "source": [
    "np.shape(filters)"
   ]
  },
  {
   "cell_type": "code",
   "execution_count": null,
   "metadata": {},
   "outputs": [],
   "source": [
    "\"\"\"\n",
    "Get the beta values\n",
    "\"\"\"\n",
    "beta=model.get_layer('logistic_regression_distal').get_weights()[0]\n",
    "print(beta)"
   ]
  },
  {
   "cell_type": "markdown",
   "metadata": {},
   "source": [
    "How to validate the model? accuracy will not work (lots of zeros). We need to look at false positives and false negatives.\n",
    "We will use the ROC curve, calculate FPR and TPR.\n",
    "y needs to have the shape y=np.zeros(#data,1)"
   ]
  },
  {
   "cell_type": "code",
   "execution_count": null,
   "metadata": {
    "collapsed": true
   },
   "outputs": [],
   "source": [
    "from sklearn.metrics import roc_auc_score\n",
    "from keras.callbacks import Callback"
   ]
  },
  {
   "cell_type": "code",
   "execution_count": null,
   "metadata": {},
   "outputs": [],
   "source": [
    "\"\"\"\n",
    "ROC score\n",
    "\"\"\"\n",
    "#y_score = model.predict_proba(xd_dev, verbose=0)\n",
    "print('Predicting on test data')\n",
    "y_score = model.predict([xp_test,xd_test])\n",
    "score=roc_auc_score(y_test, y_score, average='macro', sample_weight=None)\n",
    "print(score)"
   ]
  },
  {
   "cell_type": "code",
   "execution_count": null,
   "metadata": {},
   "outputs": [],
   "source": [
    "from sklearn.metrics import roc_curve, auc\n",
    "\"\"\"\n",
    "ROC score\n",
    "\"\"\"\n",
    "plt.rcParams.update({'font.size': 18})\n",
    "fpr, tpr, _ = roc_curve(y_test, y_score)\n",
    "roc_auc = auc(fpr, tpr)\n",
    "plt.figure()\n",
    "plt.plot(fpr, tpr, label='ROC curve (area = %0.2f)' % roc_auc)\n",
    "plt.plot([0, 1], [0, 1], 'k--')\n",
    "plt.xlim([0.0, 1.05])\n",
    "plt.ylim([0.0, 1.05])\n",
    "plt.xlabel('False Positive Rate')\n",
    "plt.ylabel('True Positive Rate')\n",
    "plt.title('Receiver operating characteristic curve')\n",
    "plt.show()\n",
    "print('AUC: %f' % roc_auc)"
   ]
  },
  {
   "cell_type": "code",
   "execution_count": null,
   "metadata": {},
   "outputs": [],
   "source": [
    "# summarize history for accuracy\n",
    "plt.plot(model.history.history['acc'])\n",
    "plt.plot(model.history.history['val_acc'])\n",
    "plt.title('model accuracy')\n",
    "plt.ylabel('accuracy')\n",
    "plt.xlabel('epoch')\n",
    "plt.legend(['train', 'test'], loc='lower right')\n",
    "plt.show()"
   ]
  },
  {
   "cell_type": "code",
   "execution_count": null,
   "metadata": {},
   "outputs": [],
   "source": [
    "# summarize history for loss\n",
    "plt.plot(model.history.history['loss'])\n",
    "plt.plot(model.history.history['val_loss'])\n",
    "plt.title('model loss')\n",
    "plt.ylabel('loss')\n",
    "plt.xlabel('epoch')\n",
    "plt.legend(['train', 'test'], loc='upper right')\n",
    "plt.show()"
   ]
  },
  {
   "cell_type": "code",
   "execution_count": null,
   "metadata": {},
   "outputs": [],
   "source": [
    "from sklearn.metrics import classification_report\n",
    "y_new=y_test.astype(np.float)\n",
    "print(y_score)\n",
    "sklearn.metrics.classification_report(y_new, y_score)"
   ]
  },
  {
   "cell_type": "code",
   "execution_count": null,
   "metadata": {},
   "outputs": [],
   "source": [
    "y_predict=np.array(len(y_score))\n",
    "y_predict[y_score>0.5]=1\n",
    "print(y_predict)"
   ]
  },
  {
   "cell_type": "code",
   "execution_count": null,
   "metadata": {
    "collapsed": true
   },
   "outputs": [],
   "source": []
  }
 ],
 "metadata": {
  "kernelspec": {
   "display_name": "Python 3",
   "language": "python",
   "name": "python3"
  },
  "language_info": {
   "codemirror_mode": {
    "name": "ipython",
    "version": 3
   },
   "file_extension": ".py",
   "mimetype": "text/x-python",
   "name": "python",
   "nbconvert_exporter": "python",
   "pygments_lexer": "ipython3",
   "version": "3.6.1"
  }
 },
 "nbformat": 4,
 "nbformat_minor": 2
}
