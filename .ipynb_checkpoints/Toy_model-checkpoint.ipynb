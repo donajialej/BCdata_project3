{
 "cells": [
  {
   "cell_type": "code",
   "execution_count": null,
   "metadata": {
    "collapsed": true
   },
   "outputs": [],
   "source": [
    "import pandas as pd\n",
    "import numpy as np\n",
    "import matplotlib.pyplot as plt\n",
    "%matplotlib inline"
   ]
  },
  {
   "cell_type": "code",
   "execution_count": null,
   "metadata": {
    "collapsed": true
   },
   "outputs": [],
   "source": [
    "#Read data as dataframe\n",
    "df = pd.read_csv(\"/home/donajialej/data/3-Simon/promoterDHS_distalDHS_pairs.csv\")"
   ]
  },
  {
   "cell_type": "code",
   "execution_count": null,
   "metadata": {
    "collapsed": true
   },
   "outputs": [],
   "source": [
    "from Bio import SeqIO\n",
    "\n",
    "# Define a function to convert a chromosome string to a genomic sequence\n",
    "def chrom2seq(chrom):\n",
    "    \"\"\"Convert chromosome string \"chrom\" to a genomic sequence\"\"\"\n",
    "\n",
    "    return list(SeqIO.parse(\n",
    "        \"/home/donajialej/data/3-Simon/hg38.analysisSet.chroms/%s.fa\" % chrom, \"fasta\"))[0].seq.upper()"
   ]
  },
  {
   "cell_type": "code",
   "execution_count": null,
   "metadata": {},
   "outputs": [],
   "source": [
    "# list of chromosomes\n",
    "CHROMS = [\"chr1\", \"chr10\", \"chr11\", \"chr12\", \"chr13\", \"chr14\", \"chr15\", \"chr16\", \"chr17\", \n",
    "          \"chr18\", \"chr19\", \"chr2\", \"chr20\", \"chr21\", \"chr22\", \"chr3\", \"chr4\", \"chr5\", \"chr6\", \n",
    "          \"chr7\", \"chr8\", \"chr9\", \"chrM\", \"chrX\", \"chrY\"]\n",
    "\n",
    "# Make dictionary\n",
    "CHROM2SEQ = dict(zip(CHROMS,[chrom2seq(chrom) for chrom in CHROMS]))"
   ]
  },
  {
   "cell_type": "code",
   "execution_count": null,
   "metadata": {},
   "outputs": [],
   "source": [
    "seq = CHROM2SEQ['chr1'][925589:925790]\n",
    "print(seq)"
   ]
  },
  {
   "cell_type": "code",
   "execution_count": null,
   "metadata": {
    "collapsed": true
   },
   "outputs": [],
   "source": [
    "# Define a function to create a one-hot encoding for a genomic sequence\n",
    "base2row = {'A':0,'C':1,'G':2,'T':3}\n",
    "def seq2onehot(seq):\n",
    "    \"\"\"Create a one-hot encoding of a nucleotide sequence\"\"\"\n",
    "    \n",
    "    A = np.zeros((len(seq),4),dtype=bool)\n",
    "    for i, base in enumerate(seq):\n",
    "        if base=='N':\n",
    "            continue\n",
    "        A[i,base2row[base]] = True\n",
    "    return A"
   ]
  },
  {
   "cell_type": "code",
   "execution_count": null,
   "metadata": {},
   "outputs": [],
   "source": [
    "seq1h = seq2onehot(seq)\n",
    "np.shape(seq1h)\n",
    "print(seq1h[:5,:])\n",
    "seq[:5]"
   ]
  },
  {
   "cell_type": "code",
   "execution_count": null,
   "metadata": {
    "collapsed": true
   },
   "outputs": [],
   "source": [
    "# Define a function to find the reverse compliment of a one-hot encoding\n",
    "def onehot2rc(onehot):\n",
    "    \"\"\"Find the one-hot encoding of the reverse compliment\n",
    "    of the genomic sequence with one-hot encoding onehot\"\"\"\n",
    "    \n",
    "    A = np.flipud(onehot) # First reverse\n",
    "    A = np.fliplr(A) # Then take compliment (i.e. switch A&T and C&G)\n",
    "    #B = np.zeros(np.shape(A),dtype=bool)\n",
    "    #B[:,0], B[:,1], B[:,2], B[:,3] = A[:,1], A[:,0], A[:,3], A[:,2]\n",
    "    return A"
   ]
  },
  {
   "cell_type": "code",
   "execution_count": null,
   "metadata": {},
   "outputs": [],
   "source": [
    "A = seq1h[:5,:]\n",
    "B = onehot2rc(A)\n",
    "print(A)\n",
    "print(B)"
   ]
  },
  {
   "cell_type": "code",
   "execution_count": null,
   "metadata": {},
   "outputs": [],
   "source": [
    "\n",
    "# Sample the same number of linked==1 class as linked==0 class\n",
    "\n",
    "idx1 = np.where(df[\"linked\"])[0]\n",
    "idx0 = np.where(df[\"linked\"]==0)[0]\n",
    "np.random.shuffle(idx1)\n",
    "np.random.shuffle(idx0)\n",
    "\n",
    "nsamples_per_class = 20000\n",
    "print(np.shape(idx1))\n",
    "print(np.shape(idx0))\n",
    "idx1 = idx1[:nsamples_per_class]\n",
    "idx0 = idx0[:nsamples_per_class]\n",
    "print(np.shape(idx1))\n",
    "print(np.shape(idx0))\n",
    "\n",
    "# Save these indices\n",
    "np.savez(\"/home/donajialej/BCdata_project3/SampleIdx.npz\",\n",
    "         idx1=idx1, idx0=idx0)\n",
    "\"\"\"\n",
    "# Load idx1 and idx0 if saved\n",
    "sample_idx = np.load(\"/home/joshscurll/bcdata_Altius_Project/BCdata_project3/SampleIdx.npz\")\n",
    "idx1, idx0 = sample_idx['idx1'], sample_idx['idx0']\n",
    "\"\"\""
   ]
  },
  {
   "cell_type": "code",
   "execution_count": null,
   "metadata": {},
   "outputs": [],
   "source": [
    "np.concatenate([idx1, idx0])"
   ]
  },
  {
   "cell_type": "code",
   "execution_count": null,
   "metadata": {
    "collapsed": true
   },
   "outputs": [],
   "source": [
    "# Take a sample\n",
    "idx10 = np.concatenate([idx1,idx0])\n",
    "np.random.shuffle(idx10)\n",
    "newdf = df.iloc[idx10]\n",
    "del df\n",
    "df = newdf\n",
    "del newdf\n",
    "\n",
    "#df = df.sample(n=10000) # Comment this out when loading indices!"
   ]
  },
  {
   "cell_type": "code",
   "execution_count": null,
   "metadata": {},
   "outputs": [],
   "source": [
    "df.head()"
   ]
  },
  {
   "cell_type": "code",
   "execution_count": null,
   "metadata": {},
   "outputs": [],
   "source": [
    "# Create new columns for promoter length and distal length\n",
    "df[\"promoter_len\"] = df[\"promoterDHSend\"]-df[\"promoterDHSstart\"]\n",
    "df[\"distal_len\"] = df[\"distalDHSend\"]-df[\"distalDHSstart\"]\n",
    "\n",
    "# Plot histogram of sequence lengths\n",
    "plt.figure\n",
    "plt.hist(df[\"promoter_len\"],bins=30,color=\"r\",alpha=0.4,label=\"promoter\")\n",
    "plt.hist(df[\"distal_len\"],bins=30,color=\"b\",alpha=0.4,label=\"distal\")\n",
    "plt.legend()\n",
    "plt.xlabel(\"base pair\")\n",
    "plt.ylabel(\"count\")\n",
    "plt.show()"
   ]
  },
  {
   "cell_type": "code",
   "execution_count": null,
   "metadata": {
    "collapsed": true
   },
   "outputs": [],
   "source": [
    "# Set a maximum sequence length and filter out longer sequences\n",
    "seqlength = 2000\n",
    "df = df[(df[\"promoter_len\"]<seqlength) & (df[\"distal_len\"]<seqlength)]"
   ]
  },
  {
   "cell_type": "code",
   "execution_count": null,
   "metadata": {
    "collapsed": true
   },
   "outputs": [],
   "source": [
    "# Initialize one-hot encoding arrays (X)\n",
    "N = df.shape[0]\n",
    "encoding_promoter = np.zeros((N,seqlength,2,4),dtype=bool)\n",
    "encoding_distal = np.zeros((N,seqlength,2,4),dtype=bool)\n",
    "\n",
    "# Initialize Y\n",
    "Y = np.zeros((N,1))"
   ]
  },
  {
   "cell_type": "code",
   "execution_count": null,
   "metadata": {
    "collapsed": true
   },
   "outputs": [],
   "source": [
    "# Define X (one-hot encoding) and Y (linked) for Keras\n",
    "row_no = 0\n",
    "for i,row in df.iterrows():\n",
    "    seq_promoter = CHROM2SEQ[row.chr][row.promoterDHSstart:row.promoterDHSend]\n",
    "    seq_distal = CHROM2SEQ[row.chr][row.distalDHSstart:row.distalDHSend]\n",
    "    try:\n",
    "        onehot_promoter = seq2onehot(seq_promoter)\n",
    "        onehot_distal = seq2onehot(seq_distal)\n",
    "        encoding_promoter[row_no,:row.promoter_len,0,:] = onehot_promoter\n",
    "        encoding_distal[row_no,:row.distal_len,0,:] = onehot_distal\n",
    "        encoding_promoter[row_no,:row.promoter_len,1,:] = onehot2rc(onehot_promoter)\n",
    "        encoding_distal[row_no,:row.distal_len,1,:] = onehot2rc(onehot_distal)\n",
    "        Y[row_no] = row.linked\n",
    "        row_no += 1\n",
    "    except KeyError:\n",
    "        print(seq_promoter)\n",
    "        print(seq_distal)\n",
    "        break\n",
    "        \n",
    "del onehot_promoter\n",
    "del onehot_distal"
   ]
  },
  {
   "cell_type": "code",
   "execution_count": null,
   "metadata": {},
   "outputs": [],
   "source": [
    "print(np.shape(encoding_promoter))\n",
    "print(np.shape(encoding_distal))\n",
    "print(np.shape(Y))"
   ]
  },
  {
   "cell_type": "code",
   "execution_count": null,
   "metadata": {
    "collapsed": true
   },
   "outputs": [],
   "source": [
    "from sklearn.model_selection import train_test_split\n",
    "\n",
    "\"\"\"Test whether we can predict promoter and distal sequences using model\"\"\"\n",
    "\n",
    "X = np.zeros((2*N,seqlength,2,4),dtype=bool)\n",
    "Y = np.zeros((2*N,1),dtype=bool)\n",
    "X[:N,:,:,:] = encoding_promoter\n",
    "X[N:,:,:,:] = encoding_distal\n",
    "Y[:N] = np.ones((N,1),dtype=bool)\n",
    "\n",
    "# Create training, development and test data sets\n",
    "\n",
    "X_train, X_test, y_train, y_test = train_test_split(\n",
    "    X, Y, test_size=0.25)\n",
    "\n",
    "X_train, X_dev, y_train, y_dev = train_test_split(\n",
    "    X_train, y_train, test_size=0.33)"
   ]
  },
  {
   "cell_type": "code",
   "execution_count": null,
   "metadata": {
    "collapsed": true
   },
   "outputs": [],
   "source": []
  }
 ],
 "metadata": {
  "kernelspec": {
   "display_name": "Python 3",
   "language": "python",
   "name": "python3"
  },
  "language_info": {
   "codemirror_mode": {
    "name": "ipython",
    "version": 3
   },
   "file_extension": ".py",
   "mimetype": "text/x-python",
   "name": "python",
   "nbconvert_exporter": "python",
   "pygments_lexer": "ipython3",
   "version": "3.6.1"
  }
 },
 "nbformat": 4,
 "nbformat_minor": 2
}
